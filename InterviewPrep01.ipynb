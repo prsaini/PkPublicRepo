{
  "cells": [
    {
      "cell_type": "markdown",
      "metadata": {
        "id": "view-in-github",
        "colab_type": "text"
      },
      "source": [
        "<a href=\"https://colab.research.google.com/github/prsaini/PkPublicRepo/blob/master/InterviewPrep01.ipynb\" target=\"_parent\"><img src=\"https://colab.research.google.com/assets/colab-badge.svg\" alt=\"Open In Colab\"/></a>"
      ]
    },
    {
      "cell_type": "code",
      "source": [
        "with open(\"filename.txt\", \"r\") as file:\n",
        "    content = file.read()"
      ],
      "metadata": {
        "id": "M7_e_TEX7_qp"
      },
      "execution_count": null,
      "outputs": []
    },
    {
      "cell_type": "code",
      "source": [
        "def name(nm):\n",
        "  return ('hello ' + nm)\n",
        "\n",
        "name(input(\"Enter you name: \"))"
      ],
      "metadata": {
        "colab": {
          "base_uri": "https://localhost:8080/",
          "height": 53
        },
        "id": "rr46GxpL7GQR",
        "outputId": "33d2e201-ca5c-4478-b299-341afd370915"
      },
      "execution_count": null,
      "outputs": [
        {
          "name": "stdout",
          "output_type": "stream",
          "text": [
            "Enter you name: I love you\n"
          ]
        },
        {
          "output_type": "execute_result",
          "data": {
            "text/plain": [
              "'hello I love you'"
            ],
            "application/vnd.google.colaboratory.intrinsic+json": {
              "type": "string"
            }
          },
          "metadata": {},
          "execution_count": 7
        }
      ]
    },
    {
      "cell_type": "code",
      "source": [
        "a = [1]\n",
        "for i in a:\n",
        "    a.append(i+1)\n",
        "    print(a)\n",
        "    if len(a)>20:\n",
        "      break"
      ],
      "metadata": {
        "colab": {
          "base_uri": "https://localhost:8080/"
        },
        "id": "hN_wN7uBHUQ6",
        "outputId": "04d69c08-51aa-47d9-c4af-3e9637980ddf"
      },
      "execution_count": null,
      "outputs": [
        {
          "output_type": "stream",
          "name": "stdout",
          "text": [
            "[1, 2]\n",
            "[1, 2, 3]\n",
            "[1, 2, 3, 4]\n",
            "[1, 2, 3, 4, 5]\n",
            "[1, 2, 3, 4, 5, 6]\n",
            "[1, 2, 3, 4, 5, 6, 7]\n",
            "[1, 2, 3, 4, 5, 6, 7, 8]\n",
            "[1, 2, 3, 4, 5, 6, 7, 8, 9]\n",
            "[1, 2, 3, 4, 5, 6, 7, 8, 9, 10]\n",
            "[1, 2, 3, 4, 5, 6, 7, 8, 9, 10, 11]\n",
            "[1, 2, 3, 4, 5, 6, 7, 8, 9, 10, 11, 12]\n",
            "[1, 2, 3, 4, 5, 6, 7, 8, 9, 10, 11, 12, 13]\n",
            "[1, 2, 3, 4, 5, 6, 7, 8, 9, 10, 11, 12, 13, 14]\n",
            "[1, 2, 3, 4, 5, 6, 7, 8, 9, 10, 11, 12, 13, 14, 15]\n",
            "[1, 2, 3, 4, 5, 6, 7, 8, 9, 10, 11, 12, 13, 14, 15, 16]\n",
            "[1, 2, 3, 4, 5, 6, 7, 8, 9, 10, 11, 12, 13, 14, 15, 16, 17]\n",
            "[1, 2, 3, 4, 5, 6, 7, 8, 9, 10, 11, 12, 13, 14, 15, 16, 17, 18]\n",
            "[1, 2, 3, 4, 5, 6, 7, 8, 9, 10, 11, 12, 13, 14, 15, 16, 17, 18, 19]\n",
            "[1, 2, 3, 4, 5, 6, 7, 8, 9, 10, 11, 12, 13, 14, 15, 16, 17, 18, 19, 20]\n",
            "[1, 2, 3, 4, 5, 6, 7, 8, 9, 10, 11, 12, 13, 14, 15, 16, 17, 18, 19, 20, 21]\n"
          ]
        }
      ]
    },
    {
      "cell_type": "code",
      "source": [
        "T1 = (0, 1, 2, 3)\n",
        "L1=list(T1)\n",
        "L1.append(9)\n",
        "print(L1)\n",
        "T1=tuple(L1)\n",
        "print(T1)"
      ],
      "metadata": {
        "colab": {
          "base_uri": "https://localhost:8080/"
        },
        "id": "WQESHgWjGBl1",
        "outputId": "5c77305a-8938-4462-8b5b-378e52e4ca80"
      },
      "execution_count": null,
      "outputs": [
        {
          "output_type": "stream",
          "name": "stdout",
          "text": [
            "[0, 1, 2, 3, 9]\n",
            "(0, 1, 2, 3, 9)\n"
          ]
        }
      ]
    },
    {
      "cell_type": "code",
      "execution_count": null,
      "metadata": {
        "colab": {
          "base_uri": "https://localhost:8080/"
        },
        "id": "7qufAgOGiUr9",
        "outputId": "6e8a939e-868a-4018-f308-3e22fbed91af"
      },
      "outputs": [
        {
          "output_type": "stream",
          "name": "stdout",
          "text": [
            "None <class 'NoneType'>\n"
          ]
        }
      ],
      "source": [
        "x='colab'\n",
        "x=frozenset({'True1','se'})\n",
        "x=memoryview(bytes(6))\n",
        "x=None\n",
        "print(x,type(x))"
      ]
    },
    {
      "cell_type": "code",
      "source": [
        "## 00A: Looping through Dictionary\n",
        "dict1={'a':1, 'b':2} #dict1={1:'a',2:'b'}\n",
        "print('values:',dict1.values())\n",
        "print('keys  :',dict1.keys())\n",
        "print('items :',dict1.items())\n",
        "print('length:',len(dict1))\n",
        "print(dict1['a']) ## you can ask dictionary to give value of key\n",
        "for i in dict1.values(): ## Looping through dictionary values\n",
        "  print(i)"
      ],
      "metadata": {
        "colab": {
          "base_uri": "https://localhost:8080/"
        },
        "id": "PEqYAIolsCM5",
        "outputId": "9c053d33-1af4-4a78-c387-b505487815fe"
      },
      "execution_count": 21,
      "outputs": [
        {
          "output_type": "stream",
          "name": "stdout",
          "text": [
            "values: dict_values([1, 2])\n",
            "keys  : dict_keys(['a', 'b'])\n",
            "items : dict_items([('a', 1), ('b', 2)])\n",
            "length: 2\n",
            "1\n",
            "1\n",
            "2\n"
          ]
        }
      ]
    },
    {
      "cell_type": "code",
      "source": [
        "## 00A: look-up within dictionary\n",
        "dict3 = {'apple': 1, 'banana': 2, 'cherry': 3}\n",
        "value=int(input('Enter age of the person: '))\n",
        "if value in dict3.values():\n",
        "  print('Method #1 (get): found match')\n",
        "  print (dict3.get(value))\n",
        "if dict3.has_key(value):\n",
        "  print('Method #2 (has_keys): found match')\n",
        "elif:\n",
        "  name_new = input('No match found, enter name of the fruit:')\n",
        "  dict3[name_new]=value\n",
        "  print(dict3)"
      ],
      "metadata": {
        "colab": {
          "base_uri": "https://localhost:8080/"
        },
        "id": "Fj8PfpP1qOa-",
        "outputId": "c543473c-a1a9-4b90-e274-e9fcee0173fa"
      },
      "execution_count": 45,
      "outputs": [
        {
          "output_type": "stream",
          "name": "stdout",
          "text": [
            "Enter age of the person: 16\n",
            "found match\n",
            "None\n"
          ]
        }
      ]
    },
    {
      "cell_type": "code",
      "source": [
        "dict3 = {'apple': 1, 'banana': 2, 'cherry': 3}\n",
        "key_to_check = 'orange'\n",
        "value=4\n",
        "\n",
        "if dict3.have()\n",
        "  print('Method #2 (has_keys): found match')\n",
        "\n",
        "\n",
        "my_dict = {'apple': 1, 'banana': 2, 'cherry': 3}\n",
        "key_to_check = 'orange'\n",
        "\n",
        "try:\n",
        "    value = my_dict[key_to_check]\n",
        "    print(f\"Key '{key_to_check}' exists.\")\n",
        "except KeyError:\n",
        "    print(f\"Key '{key_to_check}' does not exist.\")\n",
        "\n",
        "\n",
        "if [key_to_check].count(key_to_check) == 1:"
      ],
      "metadata": {
        "colab": {
          "base_uri": "https://localhost:8080/",
          "height": 245
        },
        "id": "9QSl3jdQq6-V",
        "outputId": "9d2a306b-d558-4c4d-872c-87b93a1f3964"
      },
      "execution_count": 46,
      "outputs": [
        {
          "name": "stdout",
          "output_type": "stream",
          "text": [
            "Enter age of the person: 16\n"
          ]
        },
        {
          "output_type": "error",
          "ename": "AttributeError",
          "evalue": "'dict' object has no attribute 'has_value'",
          "traceback": [
            "\u001b[0;31m---------------------------------------------------------------------------\u001b[0m",
            "\u001b[0;31mAttributeError\u001b[0m                            Traceback (most recent call last)",
            "\u001b[0;32m<ipython-input-46-4895c90ae91f>\u001b[0m in \u001b[0;36m<cell line: 3>\u001b[0;34m()\u001b[0m\n\u001b[1;32m      1\u001b[0m \u001b[0mdict3\u001b[0m \u001b[0;34m=\u001b[0m \u001b[0;34m{\u001b[0m\u001b[0;34m'george'\u001b[0m\u001b[0;34m:\u001b[0m\u001b[0;36m16\u001b[0m\u001b[0;34m,\u001b[0m \u001b[0;34m'amber'\u001b[0m\u001b[0;34m:\u001b[0m\u001b[0;36m19\u001b[0m\u001b[0;34m}\u001b[0m\u001b[0;34m\u001b[0m\u001b[0;34m\u001b[0m\u001b[0m\n\u001b[1;32m      2\u001b[0m \u001b[0mvalue\u001b[0m\u001b[0;34m=\u001b[0m\u001b[0mint\u001b[0m\u001b[0;34m(\u001b[0m\u001b[0minput\u001b[0m\u001b[0;34m(\u001b[0m\u001b[0;34m'Enter age of the person: '\u001b[0m\u001b[0;34m)\u001b[0m\u001b[0;34m)\u001b[0m\u001b[0;34m\u001b[0m\u001b[0;34m\u001b[0m\u001b[0m\n\u001b[0;32m----> 3\u001b[0;31m \u001b[0;32mif\u001b[0m \u001b[0mdict3\u001b[0m\u001b[0;34m.\u001b[0m\u001b[0mhas_value\u001b[0m\u001b[0;34m(\u001b[0m\u001b[0mvalue\u001b[0m\u001b[0;34m)\u001b[0m\u001b[0;34m:\u001b[0m\u001b[0;34m\u001b[0m\u001b[0;34m\u001b[0m\u001b[0m\n\u001b[0m\u001b[1;32m      4\u001b[0m   \u001b[0mprint\u001b[0m\u001b[0;34m(\u001b[0m\u001b[0;34m'Method #2 (has_keys): found match'\u001b[0m\u001b[0;34m)\u001b[0m\u001b[0;34m\u001b[0m\u001b[0;34m\u001b[0m\u001b[0m\n",
            "\u001b[0;31mAttributeError\u001b[0m: 'dict' object has no attribute 'has_value'"
          ]
        }
      ]
    },
    {
      "cell_type": "markdown",
      "source": [
        "# New Section"
      ],
      "metadata": {
        "id": "iaMF3rqS7lvy"
      }
    },
    {
      "cell_type": "markdown",
      "source": [
        "# New Section"
      ],
      "metadata": {
        "id": "vdKGAv7z7mQq"
      }
    },
    {
      "cell_type": "code",
      "source": [
        "## 001: sock merchant code\n",
        "\n",
        "def sock(n, ar):\n",
        "  socks={}\n",
        "  for i in ar:\n",
        "    if i not in socks:\n",
        "      socks[i]=1\n",
        "      continue\n",
        "    socks[i]=socks[i]+1\n",
        "  print(socks)\n",
        "  count=0\n",
        "  for i in socks.values():\n",
        "    count=count+i//2\n",
        "  return count\n",
        "\n",
        "#n=7\n",
        "#ar=[1,2,1,2,1,2,3]\n",
        "#sock(n, ar)\n",
        "\n",
        "import os\n",
        "\n",
        "if __name__== '__main__':\n",
        "  n=int(input('Enter an integer'))\n",
        "  ar=list(map(int, input('enter numbers').rstrip().split()))\n",
        "  result = sock(n, ar)\n",
        "  print(result)\n",
        "\n",
        "#  fptr=open('C:/Users/pravo/Downloads/test.txt','w')\n",
        "#  fptr.write(str(result))\n",
        "#  fptr.close()\n"
      ],
      "metadata": {
        "colab": {
          "base_uri": "https://localhost:8080/"
        },
        "id": "kMv2xOuF5KL8",
        "outputId": "ef4c87a9-95da-4db1-cfd2-193a2bdc2fe2"
      },
      "execution_count": 57,
      "outputs": [
        {
          "output_type": "stream",
          "name": "stdout",
          "text": [
            "Enter an integer1\n",
            "enter numbers1 2 1 2\n",
            "{1: 2, 2: 2}\n",
            "2\n"
          ]
        }
      ]
    },
    {
      "cell_type": "code",
      "source": [
        "## 002: sock merchant code\n",
        "n=7\n",
        "ar=['a','b','a','b','a','b','c']\n",
        "def sock(n, ar):\n",
        "  socks={}\n",
        "  for i in ar:\n",
        "    if i not in socks:\n",
        "      print('1',i)\n",
        "      socks[i]=1\n",
        "      continue\n",
        "    socks[i]=socks[i]+1\n",
        "  print(socks)\n",
        "  count=0\n",
        "  for i in socks.values():\n",
        "    print(i)\n",
        "    count=count+i//2\n",
        "  return count\n",
        "\n",
        "sock(n, ar)"
      ],
      "metadata": {
        "colab": {
          "base_uri": "https://localhost:8080/"
        },
        "id": "DWn0o4S6AmBn",
        "outputId": "5bfced62-f990-4111-a0ce-841c3be83c98"
      },
      "execution_count": 29,
      "outputs": [
        {
          "output_type": "stream",
          "name": "stdout",
          "text": [
            "1 a\n",
            "1 b\n",
            "1 c\n",
            "{'a': 3, 'b': 3, 'c': 1}\n",
            "3\n",
            "3\n",
            "1\n"
          ]
        },
        {
          "output_type": "execute_result",
          "data": {
            "text/plain": [
              "2"
            ]
          },
          "metadata": {},
          "execution_count": 29
        }
      ]
    },
    {
      "cell_type": "code",
      "source": [
        "## 003: Valley mountain Program\n",
        "p= 'DDUUDU'    #'UDDDUDUU'\n",
        "v=0\n",
        "ca=0\n",
        "for i in range (len(p)):\n",
        "  pa=ca\n",
        "  if p[i] == 'D':\n",
        "    ca=ca-1\n",
        "    print (1,p[i],ca)\n",
        "  else:\n",
        "    ca=ca+1\n",
        "    print (2,p[i],ca)\n",
        "  if ca==0 and i!=0 and pa==-1:\n",
        "    v=v+1\n",
        "print(ca,i,pa,ca,'--->',v)\n"
      ],
      "metadata": {
        "colab": {
          "base_uri": "https://localhost:8080/"
        },
        "id": "K2zsQTC9MX9S",
        "outputId": "701cbf20-2fd2-4c8b-cc97-0e5f78fb39a9"
      },
      "execution_count": 99,
      "outputs": [
        {
          "output_type": "stream",
          "name": "stdout",
          "text": [
            "1 D -1\n",
            "1 D -2\n",
            "2 U -1\n",
            "2 U 0\n",
            "1 D -1\n",
            "2 U 0\n",
            "0 5 -1 0 ---> 2\n"
          ]
        }
      ]
    },
    {
      "cell_type": "code",
      "source": [
        "## 004: Emma cloud jump - min possible jump\n",
        "def jumpOnCloud(c):\n",
        "  jump=0\n",
        "  c.append(1)\n",
        "  if len(c)<=2: ##If there is only one cloud , Plus we have appended 1, means = no jump possible\n",
        "    return 0\n",
        "  i=0\n",
        "  while i < len(c)-2: ## because we are checking next two steps, it should not go out of index, so we check till 2nd last item\n",
        "    if c[i+2]==0:\n",
        "      i=i+2\n",
        "    else:\n",
        "      i=i+1\n",
        "    jump=jump+1\n",
        "  return jump\n",
        "\n",
        "c=[0,0,1,0,0,1,0,0,1,0,1,0,0,1]\n",
        "print(jumpOnCloud(c))\n"
      ],
      "metadata": {
        "colab": {
          "base_uri": "https://localhost:8080/"
        },
        "id": "r94hmN7fOg7K",
        "outputId": "df795a71-a1df-4425-f1d4-05fdeeaf9cc1"
      },
      "execution_count": 21,
      "outputs": [
        {
          "output_type": "stream",
          "name": "stdout",
          "text": [
            "9\n"
          ]
        }
      ]
    },
    {
      "cell_type": "code",
      "source": [
        "## 005: repeated strings"
      ],
      "metadata": {
        "id": "8VcR8njvpDs6"
      },
      "execution_count": null,
      "outputs": []
    }
  ],
  "metadata": {
    "colab": {
      "provenance": [],
      "authorship_tag": "ABX9TyOZyKicGIKwR54eIF3bdRnG",
      "include_colab_link": true
    },
    "kernelspec": {
      "display_name": "Python 3",
      "name": "python3"
    },
    "language_info": {
      "name": "python"
    }
  },
  "nbformat": 4,
  "nbformat_minor": 0
}