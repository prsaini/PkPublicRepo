{
  "cells": [
    {
      "cell_type": "markdown",
      "metadata": {
        "id": "view-in-github",
        "colab_type": "text"
      },
      "source": [
        "<a href=\"https://colab.research.google.com/github/prsaini/PkPublicRepo/blob/master/InterviewPrep01.ipynb\" target=\"_parent\"><img src=\"https://colab.research.google.com/assets/colab-badge.svg\" alt=\"Open In Colab\"/></a>"
      ]
    },
    {
      "cell_type": "code",
      "source": [
        "## 00A: Looping through Dictionary\n",
        "dict1={'a':1, 'b':2} #dict1={1:'a',2:'b'}\n",
        "print('values:',dict1.values())\n",
        "print('keys  :',dict1.keys())\n",
        "print('items :',dict1.items())\n",
        "print('length:',len(dict1))\n",
        "print(dict1['a']) ## you can ask dictionary to give value of key\n",
        "for i in dict1.values(): ## Looping through dictionary values\n",
        "  print(i)"
      ],
      "metadata": {
        "colab": {
          "base_uri": "https://localhost:8080/"
        },
        "id": "PEqYAIolsCM5",
        "outputId": "9c053d33-1af4-4a78-c387-b505487815fe"
      },
      "execution_count": 21,
      "outputs": [
        {
          "output_type": "stream",
          "name": "stdout",
          "text": [
            "values: dict_values([1, 2])\n",
            "keys  : dict_keys(['a', 'b'])\n",
            "items : dict_items([('a', 1), ('b', 2)])\n",
            "length: 2\n",
            "1\n",
            "1\n",
            "2\n"
          ]
        }
      ]
    },
    {
      "cell_type": "code",
      "source": [
        "## 001: sock merchant code\n",
        "\n",
        "def sock(n, ar):\n",
        "  socks={}\n",
        "  for i in ar:\n",
        "    if i not in socks:\n",
        "      socks[i]=1\n",
        "      continue\n",
        "    socks[i]=socks[i]+1\n",
        "  print(socks)\n",
        "  count=0\n",
        "  for i in socks.values():\n",
        "    count=count+i//2\n",
        "  return count\n",
        "\n",
        "#n=7\n",
        "#ar=[1,2,1,2,1,2,3]\n",
        "#sock(n, ar)\n",
        "\n",
        "import os\n",
        "\n",
        "if __name__== '__main__':\n",
        "  n=int(input('Enter an integer'))\n",
        "  ar=list(map(int, input('enter numbers').rstrip().split()))\n",
        "  result = sock(n, ar)\n",
        "  print(result)\n",
        "\n",
        "#  fptr=open('C:/Users/pravo/Downloads/test.txt','w')\n",
        "#  fptr.write(str(result))\n",
        "#  fptr.close()\n"
      ],
      "metadata": {
        "colab": {
          "base_uri": "https://localhost:8080/"
        },
        "id": "kMv2xOuF5KL8",
        "outputId": "ef4c87a9-95da-4db1-cfd2-193a2bdc2fe2"
      },
      "execution_count": 57,
      "outputs": [
        {
          "output_type": "stream",
          "name": "stdout",
          "text": [
            "Enter an integer1\n",
            "enter numbers1 2 1 2\n",
            "{1: 2, 2: 2}\n",
            "2\n"
          ]
        }
      ]
    },
    {
      "cell_type": "code",
      "source": [
        "## 002: sock merchant code\n",
        "n=7\n",
        "ar=['a','b','a','b','a','b','c']\n",
        "def sock(n, ar):\n",
        "  socks={}\n",
        "  for i in ar:\n",
        "    if i not in socks:\n",
        "      print('1',i)\n",
        "      socks[i]=1\n",
        "      continue\n",
        "    socks[i]=socks[i]+1\n",
        "  print(socks)\n",
        "  count=0\n",
        "  for i in socks.values():\n",
        "    print(i)\n",
        "    count=count+i//2\n",
        "  return count\n",
        "\n",
        "sock(n, ar)"
      ],
      "metadata": {
        "colab": {
          "base_uri": "https://localhost:8080/"
        },
        "id": "DWn0o4S6AmBn",
        "outputId": "5bfced62-f990-4111-a0ce-841c3be83c98"
      },
      "execution_count": 29,
      "outputs": [
        {
          "output_type": "stream",
          "name": "stdout",
          "text": [
            "1 a\n",
            "1 b\n",
            "1 c\n",
            "{'a': 3, 'b': 3, 'c': 1}\n",
            "3\n",
            "3\n",
            "1\n"
          ]
        },
        {
          "output_type": "execute_result",
          "data": {
            "text/plain": [
              "2"
            ]
          },
          "metadata": {},
          "execution_count": 29
        }
      ]
    },
    {
      "cell_type": "code",
      "source": [
        "## 003: Valley mountain Program\n",
        "p= 'DDUUDU'    #'UDDDUDUU'\n",
        "v=0\n",
        "ca=0\n",
        "for i in range (len(p)):\n",
        "  pa=ca\n",
        "  if p[i] == 'D':\n",
        "    ca=ca-1\n",
        "    print (1,p[i],ca)\n",
        "  else:\n",
        "    ca=ca+1\n",
        "    print (2,p[i],ca)\n",
        "  if ca==0 and i!=0 and pa==-1:\n",
        "    v=v+1\n",
        "print(ca,i,pa,ca,'--->',v)\n"
      ],
      "metadata": {
        "colab": {
          "base_uri": "https://localhost:8080/"
        },
        "id": "K2zsQTC9MX9S",
        "outputId": "701cbf20-2fd2-4c8b-cc97-0e5f78fb39a9"
      },
      "execution_count": 99,
      "outputs": [
        {
          "output_type": "stream",
          "name": "stdout",
          "text": [
            "1 D -1\n",
            "1 D -2\n",
            "2 U -1\n",
            "2 U 0\n",
            "1 D -1\n",
            "2 U 0\n",
            "0 5 -1 0 ---> 2\n"
          ]
        }
      ]
    },
    {
      "cell_type": "code",
      "source": [
        "## 004: Emma cloud jump - min possible jump\n",
        "def jumpOnCloud(c):\n",
        "  jump=0\n",
        "  c.append(1)\n",
        "  if len(c)<=2: ##If there is only one cloud , Plus we have appended 1, means = no jump possible\n",
        "    return 0\n",
        "  i=0\n",
        "  while i < len(c)-2: ## because we are checking next two steps, it should not go out of index, so we check till 2nd last item\n",
        "    if c[i+2]==0:\n",
        "      i=i+2\n",
        "    else:\n",
        "      i=i+1\n",
        "    jump=jump+1\n",
        "  return jump\n",
        "\n",
        "c=[0,0,1,0,0,1,0,0,1,0,1,0,0,1]\n",
        "print(jumpOnCloud(c))\n"
      ],
      "metadata": {
        "colab": {
          "base_uri": "https://localhost:8080/"
        },
        "id": "r94hmN7fOg7K",
        "outputId": "df795a71-a1df-4425-f1d4-05fdeeaf9cc1"
      },
      "execution_count": 21,
      "outputs": [
        {
          "output_type": "stream",
          "name": "stdout",
          "text": [
            "9\n"
          ]
        }
      ]
    },
    {
      "cell_type": "code",
      "source": [
        "## 005: repeated strings"
      ],
      "metadata": {
        "id": "8VcR8njvpDs6"
      },
      "execution_count": null,
      "outputs": []
    }
  ],
  "metadata": {
    "colab": {
      "provenance": [],
      "authorship_tag": "ABX9TyNx64dyEo+6fE6jl6ipDOgq",
      "include_colab_link": true
    },
    "kernelspec": {
      "display_name": "Python 3",
      "name": "python3"
    },
    "language_info": {
      "name": "python"
    }
  },
  "nbformat": 4,
  "nbformat_minor": 0
}