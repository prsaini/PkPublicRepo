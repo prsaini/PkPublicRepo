{
  "nbformat": 4,
  "nbformat_minor": 0,
  "metadata": {
    "colab": {
      "provenance": [],
      "toc_visible": true,
      "authorship_tag": "ABX9TyMe6ntjJ5T3YY7DffeOraFs",
      "include_colab_link": true
    },
    "kernelspec": {
      "name": "python3",
      "display_name": "Python 3"
    },
    "language_info": {
      "name": "python"
    }
  },
  "cells": [
    {
      "cell_type": "markdown",
      "metadata": {
        "id": "view-in-github",
        "colab_type": "text"
      },
      "source": [
        "<a href=\"https://colab.research.google.com/github/prsaini/PkPublicRepo/blob/master/DictionaryPrep.ipynb\" target=\"_parent\"><img src=\"https://colab.research.google.com/assets/colab-badge.svg\" alt=\"Open In Colab\"/></a>"
      ]
    },
    {
      "cell_type": "code",
      "execution_count": 9,
      "metadata": {
        "id": "cXe-tZEN7q-i"
      },
      "outputs": [],
      "source": [
        "#open a file and read\n",
        "#with open(\"filename.txt\", \"r\") as file:\n",
        "#    content = file.read()"
      ]
    },
    {
      "cell_type": "code",
      "source": [
        "# 001. creating a tree with a list\n",
        "a = [1]\n",
        "for i in a:\n",
        "    a.append(i+1)\n",
        "    print(a)\n",
        "    if len(a)>5:\n",
        "      break"
      ],
      "metadata": {
        "colab": {
          "base_uri": "https://localhost:8080/"
        },
        "id": "7UHANbPJ8aN1",
        "outputId": "767f97b0-bc4c-4386-8934-dfb250a9eb30"
      },
      "execution_count": 4,
      "outputs": [
        {
          "output_type": "stream",
          "name": "stdout",
          "text": [
            "[1, 2]\n",
            "[1, 2, 3]\n",
            "[1, 2, 3, 4]\n",
            "[1, 2, 3, 4, 5]\n",
            "[1, 2, 3, 4, 5, 6]\n"
          ]
        }
      ]
    },
    {
      "cell_type": "code",
      "source": [
        "# 001. creating a tree with a hight\n",
        "def tree(n):\n",
        "    z=n-1 # length of tree\n",
        "    x=1   # No of stars\n",
        "    for i in range(n):\n",
        "        print(' ' * z + '*' * x + ' ' * z)\n",
        "        x+=2\n",
        "        z-=1\n",
        "        if i>20:\n",
        "          break\n",
        "\n",
        "tree(10)\n",
        "  #if len(a)>10: break\n"
      ],
      "metadata": {
        "colab": {
          "base_uri": "https://localhost:8080/"
        },
        "id": "5GiyMEAO94qe",
        "outputId": "3054010b-2d28-42d5-b350-df9a83aa0950"
      },
      "execution_count": 14,
      "outputs": [
        {
          "output_type": "stream",
          "name": "stdout",
          "text": [
            "         *         \n",
            "        ***        \n",
            "       *****       \n",
            "      *******      \n",
            "     *********     \n",
            "    ***********    \n",
            "   *************   \n",
            "  ***************  \n",
            " ***************** \n",
            "*******************\n"
          ]
        }
      ]
    },
    {
      "cell_type": "code",
      "source": [
        "def tree1(n):\n",
        "    z=len(str(n))\n",
        "    for i in range(n):\n",
        "      print(str(i).ljust(z),end='')\n",
        "      print((\"* \" * (i+1)).center(n*2))\n",
        "      #print((\"*\" * (i*2+1)).center(n*2))\n",
        "      # (i*2+1) is how many stars we need,\n",
        "      # center(n*2) is the space with tree needs to be centered\n",
        "\n",
        "tree1(5)"
      ],
      "metadata": {
        "colab": {
          "base_uri": "https://localhost:8080/"
        },
        "id": "nFhvfjch9m7Z",
        "outputId": "b1abbd38-7142-460f-b34e-7abda2bb439a"
      },
      "execution_count": 62,
      "outputs": [
        {
          "output_type": "stream",
          "name": "stdout",
          "text": [
            "0    *     \n",
            "1   * *    \n",
            "2  * * *   \n",
            "3 * * * *  \n",
            "4* * * * * \n"
          ]
        }
      ]
    },
    {
      "cell_type": "code",
      "source": [
        "x='colab'\n",
        "x=frozenset({'True1','se'})\n",
        "x=memoryview(bytes(6))\n",
        "x=None\n",
        "print(x,type(x))"
      ],
      "metadata": {
        "colab": {
          "base_uri": "https://localhost:8080/"
        },
        "id": "RJ6v6bou8m4e",
        "outputId": "24594e7a-5adc-496f-f6fc-b0260e6700d2"
      },
      "execution_count": 6,
      "outputs": [
        {
          "output_type": "stream",
          "name": "stdout",
          "text": [
            "None <class 'NoneType'>\n"
          ]
        }
      ]
    },
    {
      "cell_type": "code",
      "source": [
        "## 00A: Looping through Dictionary\n",
        "dict1={'a':1, 'b':2} #dict1={1:'a',2:'b'}\n",
        "print('values:',dict1.values())\n",
        "print('keys  :',dict1.keys())\n",
        "print('items :',dict1.items())\n",
        "print('length:',len(dict1))\n",
        "print(dict1['a']) ## you can ask dictionary to give value of key\n",
        "for i in dict1.values(): ## Looping through dictionary values\n",
        "  print(i)"
      ],
      "metadata": {
        "colab": {
          "base_uri": "https://localhost:8080/"
        },
        "id": "v7zr2wWR8uik",
        "outputId": "5b692450-ac8c-4cc1-c712-94deac523803"
      },
      "execution_count": 7,
      "outputs": [
        {
          "output_type": "stream",
          "name": "stdout",
          "text": [
            "values: dict_values([1, 2])\n",
            "keys  : dict_keys(['a', 'b'])\n",
            "items : dict_items([('a', 1), ('b', 2)])\n",
            "length: 2\n",
            "1\n",
            "1\n",
            "2\n"
          ]
        }
      ]
    },
    {
      "cell_type": "code",
      "source": [
        "## 00A: look-up within dictionary\n",
        "dict3 = {'apple': 1, 'banana': 2, 'cherry': 3}\n",
        "value=int(input('Enter age of the person: '))\n",
        "if value in dict3.values():\n",
        "  print('Method #1 (get): found match')\n",
        "  print (dict3.get(value))\n",
        "if dict3.has_key(value):\n",
        "  print('Method #2 (has_keys): found match')\n",
        "elif:\n",
        "  name_new = input('No match found, enter name of the fruit:')\n",
        "  dict3[name_new]=value\n",
        "  print(dict3)"
      ],
      "metadata": {
        "colab": {
          "base_uri": "https://localhost:8080/",
          "height": 141
        },
        "id": "ih7hFIUi8yiY",
        "outputId": "38c216f2-fe30-42f4-d0bf-3bd6d1ed5af7"
      },
      "execution_count": 8,
      "outputs": [
        {
          "output_type": "error",
          "ename": "SyntaxError",
          "evalue": "invalid syntax (<ipython-input-8-ca25b0a9124b>, line 9)",
          "traceback": [
            "\u001b[0;36m  File \u001b[0;32m\"<ipython-input-8-ca25b0a9124b>\"\u001b[0;36m, line \u001b[0;32m9\u001b[0m\n\u001b[0;31m    elif:\u001b[0m\n\u001b[0m        ^\u001b[0m\n\u001b[0;31mSyntaxError\u001b[0m\u001b[0;31m:\u001b[0m invalid syntax\n"
          ]
        }
      ]
    },
    {
      "cell_type": "code",
      "source": [
        "dict3 = {'apple': 1, 'banana': 2, 'cherry': 3}\n",
        "key_to_check = 'orange'\n",
        "value=4\n",
        "\n",
        "if dict3.have()\n",
        "  print('Method #2 (has_keys): found match')\n",
        "\n",
        "\n",
        "my_dict = {'apple': 1, 'banana': 2, 'cherry': 3}\n",
        "key_to_check = 'orange'\n",
        "\n",
        "try:\n",
        "    value = my_dict[key_to_check]\n",
        "    print(f\"Key '{key_to_check}' exists.\")\n",
        "except KeyError:\n",
        "    print(f\"Key '{key_to_check}' does not exist.\")\n",
        "\n",
        "\n",
        "if [key_to_check].count(key_to_check) == 1:"
      ],
      "metadata": {
        "id": "aLsGY1Np822U"
      },
      "execution_count": null,
      "outputs": []
    }
  ]
}